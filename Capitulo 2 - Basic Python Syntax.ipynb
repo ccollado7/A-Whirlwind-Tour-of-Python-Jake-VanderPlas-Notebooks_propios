{
 "cells": [
  {
   "cell_type": "markdown",
   "metadata": {},
   "source": [
    "# A Quick Tour od Python Language Syntax"
   ]
  },
  {
   "cell_type": "markdown",
   "metadata": {},
   "source": [
    "Code Example"
   ]
  },
  {
   "cell_type": "code",
   "execution_count": 1,
   "metadata": {},
   "outputs": [
    {
     "name": "stdout",
     "output_type": "stream",
     "text": [
      "lower: [0, 1, 2, 3, 4]\n",
      "upper: [5, 6, 7, 8, 9]\n"
     ]
    }
   ],
   "source": [
    "midpoint=5 #set the mindpoint\n",
    "lower=[];upper=[] # make two empty lists\n",
    "for i in range(10): #split the numbers into lower and upper\n",
    "    if(i<midpoint):\n",
    "        lower.append(i)\n",
    "    else:\n",
    "        upper.append(i)\n",
    "print(\"lower:\",lower)\n",
    "print(\"upper:\",upper)\n",
    "\n",
    "#Este programa ubica los numeros 0 a 9 en 2 listas tomando como \"punto medio\" el indicado en mindpoint"
   ]
  },
  {
   "cell_type": "markdown",
   "metadata": {},
   "source": [
    "# Comments Are Marked by \"#\" "
   ]
  },
  {
   "cell_type": "code",
   "execution_count": 3,
   "metadata": {},
   "outputs": [],
   "source": [
    "# Los comentarios en Python comienza con el signo \"#\", de forma tal que todo lo que venga despues no sera tenido en cuenta por el programa en la ejecucion\n",
    "\n",
    "# Los comentarios puede colocarse solos (en una linea separada) o como parte del codigo"
   ]
  },
  {
   "cell_type": "code",
   "execution_count": 7,
   "metadata": {},
   "outputs": [],
   "source": [
    "#Ejemplo de comentario en linea (a continuacion de una linea de codigo)\n",
    "\n",
    "x=1 #Defino una variable y le asigno el valor (esto es para poder realizar la proxima operacion)\n",
    "x+=2 #Esto es una forma reducida de realizar la operacion x=x+2"
   ]
  },
  {
   "cell_type": "markdown",
   "metadata": {},
   "source": [
    "# End-of-line Terminates Statement"
   ]
  },
  {
   "cell_type": "code",
   "execution_count": 10,
   "metadata": {},
   "outputs": [],
   "source": [
    "midpoint = 5 #Esto es una OPERACION DE ASIGNACION, donde se crea una variable llamanda \"midpoint\" y se le asigna el valor 5\n",
    "\n",
    "#Es importante señalar que la finalizacion de la asignacion ternmina cuando se termina la redaccion de la asignacion, no es necesario incluir ningun signo adicional como en otros lenguajes"
   ]
  },
  {
   "cell_type": "code",
   "execution_count": 13,
   "metadata": {},
   "outputs": [],
   "source": [
    "x = 1+2+3+4+\\\n",
    "5+6+7+8\n",
    "\n",
    "#Si se quiere que la linea de codigo continue abajo se debe utilizar la barra invertida "
   ]
  },
  {
   "cell_type": "code",
   "execution_count": 18,
   "metadata": {},
   "outputs": [],
   "source": [
    "x=(1+2+3+4+\n",
    "   5+6+7+8)\n",
    "\n",
    "# Otra forma se continuar la expresion abajo es posible utilizar parentesis\n",
    "# La mayoria de las \"guias de estilo de Python\" recomiendad el uso de parentesis () para continuar una linea de codigo"
   ]
  },
  {
   "cell_type": "markdown",
   "metadata": {},
   "source": [
    "# Semicolon Can Optionally Terminate a Statement"
   ]
  },
  {
   "cell_type": "code",
   "execution_count": 19,
   "metadata": {},
   "outputs": [],
   "source": [
    "lower = []; upper = [] # Para colocar varias declaraciones en una sola linea de codigo se debe utilizar el punto y coma ;"
   ]
  },
  {
   "cell_type": "code",
   "execution_count": 21,
   "metadata": {},
   "outputs": [],
   "source": [
    "#Lo anterior es equivalente a lo siguiente:\n",
    "\n",
    "lowe = []\n",
    "upper = []"
   ]
  },
  {
   "cell_type": "markdown",
   "metadata": {},
   "source": [
    "El uso de punto y coma ; para colocar varias declaraciones en una sola linea de codigo suele ser poco recomendado por las guias de estilo de Python, aunque algunas veces puede resultar conveniente."
   ]
  },
  {
   "cell_type": "markdown",
   "metadata": {},
   "source": [
    "# Identation:Whitespace Matters!"
   ]
  },
  {
   "cell_type": "code",
   "execution_count": 23,
   "metadata": {},
   "outputs": [],
   "source": [
    "for i in range(10):\n",
    "    if i<midpoint:\n",
    "        lower.append(i)\n",
    "    else:\n",
    "        upper.append(i)"
   ]
  },
  {
   "cell_type": "markdown",
   "metadata": {},
   "source": [
    "a) En Python el espacio en blanco es SIGNIFICATIVO.\n",
    "\n",
    "b) En los lenguajes de programacion un BLOQUE DE CODIGO es una declaracion que debe ser tratada como una unidad propia.\n",
    "\n",
    "c) En Python los bloques de codigo \"identados\" se encuentran siempre precedidos por el signo dos puntos : en la linea previa\n",
    "\n",
    "d) Es importante prestar atencion a la redaccion del codigo de forma tal de identificar bien los bloques de codigo que se encuentran identados para no generar confusion."
   ]
  },
  {
   "cell_type": "code",
   "execution_count": 25,
   "metadata": {},
   "outputs": [],
   "source": [
    "if x < 4:\n",
    "    y = x * 2\n",
    "    print(x)\n",
    "    \n",
    "#La sentencia print(x) se encuentra subordinado al bloque identado generado en :\n",
    "#La sentencia print(x) se ejecutara en todos los casos que x sea menor a 4"
   ]
  },
  {
   "cell_type": "code",
   "execution_count": null,
   "metadata": {},
   "outputs": [],
   "source": [
    "if x < 4:\n",
    "    y = x * 2\n",
    "print(x)\n",
    "\n",
    "#La sentencia print(x) NO se encuentra subordidado al bloque identado generado en :\n",
    "#La sentencia print(x) se ejecutara independiente del valor que tome x, ya que se encuentra fuera del bloque"
   ]
  },
  {
   "cell_type": "markdown",
   "metadata": {},
   "source": [
    "Por convencion la mayoria de las guias de estilo de Python recomiendan la identacion del bloque de codigo con 4 espacios en blanco"
   ]
  },
  {
   "cell_type": "markdown",
   "metadata": {},
   "source": [
    "# Whitespace Within Lines Does Not Matter"
   ]
  },
  {
   "cell_type": "markdown",
   "metadata": {},
   "source": [
    "Los espacios en blanco incluidos dentro del codigo no afectan su ejecucion"
   ]
  },
  {
   "cell_type": "code",
   "execution_count": 27,
   "metadata": {},
   "outputs": [],
   "source": [
    "#Ejemplo N°1\n",
    "x=1+2\n",
    "\n",
    "#Ejemplo N°2\n",
    "x = 1 + 2\n",
    "\n",
    "#Ejemplo N°3\n",
    "x              =             1           +                  2"
   ]
  },
  {
   "cell_type": "code",
   "execution_count": 28,
   "metadata": {},
   "outputs": [],
   "source": [
    "# El uso efectivo de espacios en blanco ayuda a que el codigo sea legible\n",
    "\n",
    "x=10**-2 #En este caso no se tienen espacios en blanco y el codigo es poco legible\n",
    "\n",
    "x = 10 ** -2 #En este caso los espacios en blanco son utilizados en forma correcta y el coedigo es legible"
   ]
  },
  {
   "cell_type": "markdown",
   "metadata": {},
   "source": [
    "# Parentheses Are for Grouping Calling"
   ]
  },
  {
   "cell_type": "code",
   "execution_count": 36,
   "metadata": {},
   "outputs": [
    {
     "data": {
      "text/plain": [
       "14"
      ]
     },
     "execution_count": 36,
     "metadata": {},
     "output_type": "execute_result"
    }
   ],
   "source": [
    "# 1) En este caso el parentesis se utiliza para agrupar operaciones matematicas\n",
    "\n",
    "2*(3+4)"
   ]
  },
  {
   "cell_type": "code",
   "execution_count": 35,
   "metadata": {},
   "outputs": [
    {
     "name": "stdout",
     "output_type": "stream",
     "text": [
      "First Value: 1\n",
      "Second Value: 2\n"
     ]
    }
   ],
   "source": [
    "# 2) En el caso de la funcion PRINT se colocan dentro del parentesis el contenido de la funcion, los cuales son denominados ARGUMENTOS \n",
    "\n",
    "print(\"First Value:\",1) \n",
    "print(\"Second Value:\",2)"
   ]
  },
  {
   "cell_type": "code",
   "execution_count": 38,
   "metadata": {},
   "outputs": [
    {
     "name": "stdout",
     "output_type": "stream",
     "text": [
      "[1, 2, 3, 4]\n"
     ]
    }
   ],
   "source": [
    "#Algunas funciones pueden ser \"llamadas\" sin definir ningun argumento, lo cual significa no colocar ningun argumento dentro de los parentesis\n",
    "\n",
    "L = [4,2,3,1]\n",
    "L.sort()\n",
    "print(L)\n",
    "\n",
    "#Los parentesis () despues de L.sort indica que la funcion debe ser ejecutado"
   ]
  },
  {
   "cell_type": "markdown",
   "metadata": {},
   "source": [
    "La guia es estilos de Python se puede consultar en https://www.python.org/dev/peps/pep-0008/"
   ]
  },
  {
   "cell_type": "code",
   "execution_count": null,
   "metadata": {},
   "outputs": [],
   "source": []
  }
 ],
 "metadata": {
  "kernelspec": {
   "display_name": "Python 3",
   "language": "python",
   "name": "python3"
  },
  "language_info": {
   "codemirror_mode": {
    "name": "ipython",
    "version": 3
   },
   "file_extension": ".py",
   "mimetype": "text/x-python",
   "name": "python",
   "nbconvert_exporter": "python",
   "pygments_lexer": "ipython3",
   "version": "3.6.5"
  }
 },
 "nbformat": 4,
 "nbformat_minor": 2
}
